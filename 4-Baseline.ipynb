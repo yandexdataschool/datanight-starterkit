{
 "cells": [
  {
   "cell_type": "markdown",
   "metadata": {},
   "source": [
    "#Бенчмарк. Определение остановок автобусов (учебный поток).\n",
    "\n",
    "Ночь Анализа Данных Яндекса, 2015"
   ]
  },
  {
   "cell_type": "markdown",
   "metadata": {},
   "source": [
    "Подключим необходимые библиотеки:"
   ]
  },
  {
   "cell_type": "code",
   "execution_count": 1,
   "metadata": {
    "collapsed": false
   },
   "outputs": [],
   "source": [
    "import numpy as np\n",
    "import pandas as pd\n",
    "\n",
    "from sklearn.cluster import KMeans"
   ]
  },
  {
   "cell_type": "markdown",
   "metadata": {},
   "source": [
    "Считаем файл с данными, а также файл с числом остановок."
   ]
  },
  {
   "cell_type": "code",
   "execution_count": 2,
   "metadata": {
    "collapsed": false
   },
   "outputs": [],
   "source": [
    "dtrain = pd.read_csv(\n",
    "    'data.tsv', \n",
    "    sep = '\\t',\n",
    "    names = ['datetime', 'id', 'type', 'hash', 'latitude', 'longitude'])"
   ]
  },
  {
   "cell_type": "code",
   "execution_count": 3,
   "metadata": {
    "collapsed": false
   },
   "outputs": [],
   "source": [
    "dcounts = pd.read_csv(\n",
    "    'route_to_stops_count.tsv',\n",
    "    sep = '\\t',\n",
    "    names = ['type', 'hash', 'value'])"
   ]
  },
  {
   "cell_type": "markdown",
   "metadata": {},
   "source": [
    "Пробежимся по всем маршрутам.\n",
    "Для каждого применим алгоритм кластеризации KMeans с заданным числом кластеров.\n",
    "В качестве результата будем накапливать центры получившихся кластеров."
   ]
  },
  {
   "cell_type": "code",
   "execution_count": 5,
   "metadata": {
    "collapsed": false
   },
   "outputs": [],
   "source": [
    "result = []\n",
    "\n",
    "for i, row in dcounts.iterrows():\n",
    "    coord = dtrain.loc[(dtrain['hash'] == row['hash']), ['latitude', 'longitude']]\n",
    "\n",
    "    kmeans = KMeans(n_clusters = row['value'], n_init = 1).fit(coord)\n",
    "    result.extend(kmeans.cluster_centers_)"
   ]
  },
  {
   "cell_type": "markdown",
   "metadata": {},
   "source": [
    "Выведем результат в файл."
   ]
  },
  {
   "cell_type": "code",
   "execution_count": 6,
   "metadata": {
    "collapsed": false
   },
   "outputs": [],
   "source": [
    "np.savetxt('output.txt', result, header = str(len(result)), comments = '')"
   ]
  },
  {
   "cell_type": "code",
   "execution_count": 7,
   "metadata": {
    "collapsed": false
   },
   "outputs": [
    {
     "name": "stdout",
     "output_type": "stream",
     "text": [
      "12021\r\n",
      "5.052409104411764673e+01 5.094688092647059108e+01\r\n",
      "5.053178793333333374e+01 5.101476371428571355e+01\r\n",
      "5.050587611484593964e+01 5.096953784873949900e+01\r\n",
      "5.053187850925925773e+01 5.104143597222222439e+01\r\n",
      "5.053039435820895164e+01 5.097717756716417625e+01\r\n",
      "5.052892620430107229e+01 5.099689740860215181e+01\r\n",
      "5.051447645522387830e+01 5.093644913805970020e+01\r\n",
      "5.052568369298245443e+01 5.095541202631579125e+01\r\n",
      "5.050458984962406106e+01 5.094291932330826711e+01\r\n"
     ]
    }
   ],
   "source": [
    "!head output.txt\n",
    "\n"
   ]
  },
  {
   "cell_type": "code",
   "execution_count": 8,
   "metadata": {
    "collapsed": false
   },
   "outputs": [
    {
     "name": "stdout",
     "output_type": "stream",
     "text": [
      "total 56754\r\n",
      "-rw-r--r-- 1 root root     2341 Sep 11 21:10 1-Get_oauth_token.ipynb\r\n",
      "-rw-r--r-- 1 root root     8414 Sep 11 09:46 2-Get_data.ipynb\r\n",
      "-rw-r--r-- 1 root root   201179 Sep 11 14:14 3-Visualize_data.ipynb\r\n",
      "-rw-r--r-- 1 root root     7377 Sep 11 21:14 4-Baseline.ipynb\r\n",
      "-rw-r--r-- 1 root root      376 Sep 11 21:03 README.md\r\n",
      "-rwxr-xr-x 1 root root     7346 Sep 11 21:03 contest_yandex.py\r\n",
      "-rw-r--r-- 1 root root     8059 Sep 11 21:05 contest_yandex.pyc\r\n",
      "-rw-r--r-- 1 root root 56668417 Sep 11 09:46 data.tsv\r\n",
      "-rw-r--r-- 1 root root     4255 Sep 11 09:46 debug.tsv\r\n",
      "-rw-r--r-- 1 root root   601056 Sep 11 21:16 output.txt\r\n",
      "-rw-r--r-- 1 root root   601056 Sep 11 14:49 output1.txt\r\n",
      "-rw-r--r-- 1 root root     3385 Sep 11 09:46 route_to_stops_count.tsv\r\n"
     ]
    }
   ],
   "source": [
    "!ls -l"
   ]
  },
  {
   "cell_type": "markdown",
   "metadata": {
    "collapsed": true
   },
   "source": [
    "Подставьте свой oauth_token в следующю строку, например:\n",
    "\n",
    "```\n",
    "   oauth = '21a1929c450641769be5c5bc49a55555'\n",
    "```"
   ]
  },
  {
   "cell_type": "code",
   "execution_count": 9,
   "metadata": {
    "collapsed": true
   },
   "outputs": [],
   "source": [
    "oauth = '21a1929c450641769be5c5bc49a55d54'"
   ]
  },
  {
   "cell_type": "code",
   "execution_count": 10,
   "metadata": {
    "collapsed": false
   },
   "outputs": [],
   "source": [
    "from contest_yandex import YaContestSubmitter\n",
    "contest = YaContestSubmitter(oauth_token=oauth, contest_id=1303)"
   ]
  },
  {
   "cell_type": "code",
   "execution_count": 11,
   "metadata": {
    "collapsed": false
   },
   "outputs": [
    {
     "name": "stdout",
     "output_type": "stream",
     "text": [
      "770164\n"
     ]
    }
   ],
   "source": [
    "r = contest.submit('output.txt')\n",
    "print r"
   ]
  },
  {
   "cell_type": "code",
   "execution_count": 12,
   "metadata": {
    "collapsed": false
   },
   "outputs": [
    {
     "name": "stdout",
     "output_type": "stream",
     "text": [
      "Score: 110379.603787, message: points 110379.60378723420 [*] Correct stops 10 of 12021 ( 4956 stops in total)\n",
      "\n"
     ]
    }
   ],
   "source": [
    "score, message = contest.get_score()\n",
    "print \"Score: {}, message: {}\".format(score, message)"
   ]
  },
  {
   "cell_type": "code",
   "execution_count": null,
   "metadata": {
    "collapsed": true
   },
   "outputs": [],
   "source": []
  }
 ],
 "metadata": {
  "kernelspec": {
   "display_name": "Python 2",
   "language": "python",
   "name": "python2"
  },
  "language_info": {
   "codemirror_mode": {
    "name": "ipython",
    "version": 2
   },
   "file_extension": ".py",
   "mimetype": "text/x-python",
   "name": "python",
   "nbconvert_exporter": "python",
   "pygments_lexer": "ipython2",
   "version": "2.7.6"
  }
 },
 "nbformat": 4,
 "nbformat_minor": 0
}
