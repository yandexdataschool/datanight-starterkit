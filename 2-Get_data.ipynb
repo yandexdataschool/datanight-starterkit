{
 "cells": [
  {
   "cell_type": "code",
   "execution_count": 1,
   "metadata": {
    "collapsed": false
   },
   "outputs": [
    {
     "name": "stdout",
     "output_type": "stream",
     "text": [
      "1-Get_oauth_token.ipynb  4-Baseline.ipynb   contest_yandex.pyc\r\n",
      "2-Get_data.ipynb\t README.md\r\n",
      "3-Visualize_data.ipynb\t contest_yandex.py\r\n"
     ]
    }
   ],
   "source": [
    "!ls"
   ]
  },
  {
   "cell_type": "code",
   "execution_count": 1,
   "metadata": {
    "collapsed": false
   },
   "outputs": [
    {
     "name": "stdout",
     "output_type": "stream",
     "text": [
      "--2015-09-12 12:31:44--  https://downloader.disk.yandex.ru/disk/1fc396754478dc2d501bc260197559459e17b5b363713f4c562b0bf4bf17ea4b/55f45325/HEj83CpHcnbY4EHlraYVjLfAYUkE2eHMAY628yeZsFSvIMSr52fI5ITg51hAfXASvntAMP1hiqWiKmaxfjhxDw%3D%3D?uid=0&filename=data.tsv&disposition=attachment&hash=wD7CdLxdT0e9vIYVZCs1XqNIvaX6tKwDG1xi2x2JQ18%3D%3A&limit=0&content_type=application%2Foctet-stream&fsize=56668417&hid=476f7c6e23a7bbf060bdd25c82ad7b7e&media_type=data&tknv=v2\n",
      "Resolving downloader.disk.yandex.ru (downloader.disk.yandex.ru)... 77.88.21.127, 2a02:6b8::2:127\n",
      "Connecting to downloader.disk.yandex.ru (downloader.disk.yandex.ru)|77.88.21.127|:443... connected.\n",
      "HTTP request sent, awaiting response... 302 Moved Temporarily\n",
      "Location: https://leto22f.storage.yandex.net/rdisk/1fc396754478dc2d501bc260197559459e17b5b363713f4c562b0bf4bf17ea4b/55f45325/HEj83CpHcnbY4EHlraYVjLfAYUkE2eHMAY628yeZsFSvIMSr52fI5ITg51hAfXASvntAMP1hiqWiKmaxfjhxDw==?uid=0&filename=data.tsv&disposition=attachment&hash=wD7CdLxdT0e9vIYVZCs1XqNIvaX6tKwDG1xi2x2JQ18%3D%3A&limit=0&content_type=application%2Foctet-stream&fsize=56668417&hid=476f7c6e23a7bbf060bdd25c82ad7b7e&media_type=data&tknv=v2&rtoken=876553fcd08c3e4d9acc94b407c85688&force_default=no&ycrid=na-fde7982a46ce5426b32b71a0c5ecb7ff-downloader10g [following]\n",
      "--2015-09-12 12:31:44--  https://leto22f.storage.yandex.net/rdisk/1fc396754478dc2d501bc260197559459e17b5b363713f4c562b0bf4bf17ea4b/55f45325/HEj83CpHcnbY4EHlraYVjLfAYUkE2eHMAY628yeZsFSvIMSr52fI5ITg51hAfXASvntAMP1hiqWiKmaxfjhxDw==?uid=0&filename=data.tsv&disposition=attachment&hash=wD7CdLxdT0e9vIYVZCs1XqNIvaX6tKwDG1xi2x2JQ18%3D%3A&limit=0&content_type=application%2Foctet-stream&fsize=56668417&hid=476f7c6e23a7bbf060bdd25c82ad7b7e&media_type=data&tknv=v2&rtoken=876553fcd08c3e4d9acc94b407c85688&force_default=no&ycrid=na-fde7982a46ce5426b32b71a0c5ecb7ff-downloader10g\n",
      "Resolving leto22f.storage.yandex.net (leto22f.storage.yandex.net)... 77.88.29.122, 2a02:6b8:0:1472:6:7ed0:22:fff\n",
      "Connecting to leto22f.storage.yandex.net (leto22f.storage.yandex.net)|77.88.29.122|:443... connected.\n",
      "HTTP request sent, awaiting response... 200 OK\n",
      "Length: 56668417 (54M) [application/octet-stream]\n",
      "Saving to: 'data.tsv'\n",
      "\n",
      "100%[======================================>] 56,668,417  5.00MB/s   in 9.2s   \n",
      "\n",
      "2015-09-12 12:31:54 (5.85 MB/s) - 'data.tsv' saved [56668417/56668417]\n",
      "\n"
     ]
    }
   ],
   "source": [
    "!wget -O data.tsv \"https://downloader.disk.yandex.ru/disk/1fc396754478dc2d501bc260197559459e17b5b363713f4c562b0bf4bf17ea4b/55f45325/HEj83CpHcnbY4EHlraYVjLfAYUkE2eHMAY628yeZsFSvIMSr52fI5ITg51hAfXASvntAMP1hiqWiKmaxfjhxDw%3D%3D?uid=0&filename=data.tsv&disposition=attachment&hash=wD7CdLxdT0e9vIYVZCs1XqNIvaX6tKwDG1xi2x2JQ18%3D%3A&limit=0&content_type=application%2Foctet-stream&fsize=56668417&hid=476f7c6e23a7bbf060bdd25c82ad7b7e&media_type=data&tknv=v2\""
   ]
  },
  {
   "cell_type": "code",
   "execution_count": 3,
   "metadata": {
    "collapsed": false
   },
   "outputs": [
    {
     "name": "stdout",
     "output_type": "stream",
     "text": [
      "--2015-09-12 12:33:15--  https://downloader.disk.yandex.ru/disk/e9d17df327848162f9f5097bd2002c5a9f96ba2ca571d3434f212b46f77b9a3d/55f453bf/CcSKzxj0WaNlsUek0x7JW5jxJX3TMvBQwZ2C2pUkBt3DFahwK-qY_qaMeHto3FFmnjP-NbYxLPZ1_FF6LvHo0w%3D%3D?uid=0&filename=route_to_stops_count.tsv&disposition=attachment&hash=vT8k7P543vlC9GdoVNOOVtkWBUO/TI2%2BOOP2AHz4ON4%3D%3A&limit=0&content_type=text%2Ftab-separated-values&fsize=3385&hid=034ee0642ef6e86d835d05afccf21d7d&media_type=data&tknv=v2\n",
      "Resolving downloader.disk.yandex.ru (downloader.disk.yandex.ru)... 77.88.21.127, 2a02:6b8::2:127\n",
      "Connecting to downloader.disk.yandex.ru (downloader.disk.yandex.ru)|77.88.21.127|:443... connected.\n",
      "HTTP request sent, awaiting response... 200 OK\n",
      "Length: 3385 (3.3K) [text/tab-separated-values]\n",
      "Saving to: 'route_to_stops_count.tsv'\n",
      "\n",
      "100%[======================================>] 3,385       --.-K/s   in 0s      \n",
      "\n",
      "2015-09-12 12:33:15 (341 MB/s) - 'route_to_stops_count.tsv' saved [3385/3385]\n",
      "\n"
     ]
    }
   ],
   "source": [
    "!wget -O route_to_stops_count.tsv \"https://downloader.disk.yandex.ru/disk/e9d17df327848162f9f5097bd2002c5a9f96ba2ca571d3434f212b46f77b9a3d/55f453bf/CcSKzxj0WaNlsUek0x7JW5jxJX3TMvBQwZ2C2pUkBt3DFahwK-qY_qaMeHto3FFmnjP-NbYxLPZ1_FF6LvHo0w%3D%3D?uid=0&filename=route_to_stops_count.tsv&disposition=attachment&hash=vT8k7P543vlC9GdoVNOOVtkWBUO/TI2%2BOOP2AHz4ON4%3D%3A&limit=0&content_type=text%2Ftab-separated-values&fsize=3385&hid=034ee0642ef6e86d835d05afccf21d7d&media_type=data&tknv=v2\""
   ]
  },
  {
   "cell_type": "code",
   "execution_count": 2,
   "metadata": {
    "collapsed": false
   },
   "outputs": [
    {
     "name": "stdout",
     "output_type": "stream",
     "text": [
      "--2015-09-12 12:32:43--  https://downloader.disk.yandex.ru/disk/8b8a310f195bf9bc23e16f875740397509a0f210a9072b9634d8530b514b6d86/55f45393/KVsMs_AmN1ljTmXH1HebATMHLsVKBXdWBDSp5hkv73v5Wax-lbh94sdgwlnJB3jAyoJIz6pyyyUwgr6SuuaA8w%3D%3D?uid=0&filename=debug.tsv&disposition=attachment&hash=DHs5JZwrzirJ8SAkCZ2VzXq9A0sFwWs49DEHntfpF/U%3D%3A&limit=0&content_type=text%2Ftab-separated-values&fsize=4255&hid=3d259652e34b69c7d7bbee737486144d&media_type=data&tknv=v2\n",
      "Resolving downloader.disk.yandex.ru (downloader.disk.yandex.ru)... 77.88.21.127, 2a02:6b8::2:127\n",
      "Connecting to downloader.disk.yandex.ru (downloader.disk.yandex.ru)|77.88.21.127|:443... connected.\n",
      "HTTP request sent, awaiting response... 200 OK\n",
      "Length: 4255 (4.2K) [text/tab-separated-values]\n",
      "Saving to: 'debug.tsv'\n",
      "\n",
      "100%[======================================>] 4,255       --.-K/s   in 0s      \n",
      "\n",
      "2015-09-12 12:32:43 (214 MB/s) - 'debug.tsv' saved [4255/4255]\n",
      "\n"
     ]
    }
   ],
   "source": [
    "!wget -O debug.tsv \"https://downloader.disk.yandex.ru/disk/8b8a310f195bf9bc23e16f875740397509a0f210a9072b9634d8530b514b6d86/55f45393/KVsMs_AmN1ljTmXH1HebATMHLsVKBXdWBDSp5hkv73v5Wax-lbh94sdgwlnJB3jAyoJIz6pyyyUwgr6SuuaA8w%3D%3D?uid=0&filename=debug.tsv&disposition=attachment&hash=DHs5JZwrzirJ8SAkCZ2VzXq9A0sFwWs49DEHntfpF/U%3D%3A&limit=0&content_type=text%2Ftab-separated-values&fsize=4255&hid=3d259652e34b69c7d7bbee737486144d&media_type=data&tknv=v2\""
   ]
  },
  {
   "cell_type": "code",
   "execution_count": 4,
   "metadata": {
    "collapsed": false
   },
   "outputs": [
    {
     "name": "stdout",
     "output_type": "stream",
     "text": [
      "data.tsv  debug.tsv  route_to_stops_count.tsv\r\n"
     ]
    }
   ],
   "source": [
    "!ls *.tsv"
   ]
  },
  {
   "cell_type": "code",
   "execution_count": null,
   "metadata": {
    "collapsed": true
   },
   "outputs": [],
   "source": []
  }
 ],
 "metadata": {
  "kernelspec": {
   "display_name": "Python 2",
   "language": "python",
   "name": "python2"
  },
  "language_info": {
   "codemirror_mode": {
    "name": "ipython",
    "version": 2
   },
   "file_extension": ".py",
   "mimetype": "text/x-python",
   "name": "python",
   "nbconvert_exporter": "python",
   "pygments_lexer": "ipython2",
   "version": "2.7.6"
  }
 },
 "nbformat": 4,
 "nbformat_minor": 0
}
